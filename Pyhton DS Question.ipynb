{
 "cells": [
  {
   "cell_type": "markdown",
   "metadata": {},
   "source": [
    "##  ALGORITHM"
   ]
  },
  {
   "cell_type": "markdown",
   "metadata": {},
   "source": [
    "### EVALUATE_PREFIX(STRING)\n",
    "####  Step 1: Put a pointer P at the end of the end\n",
    "####  Step 2: If character at P is an operand push it to Stack\n",
    "####  Step 3: If the character at P is an operator pop two \n",
    "        elements from the Stack. Operate on these elements\n",
    "        according to the operator, and push the result \n",
    "        back to the Stack\n",
    "####  Step 4: Decrement P by 1 and go to Step 2 as long as there\n",
    "        are characters left to be scanned in the expression.\n",
    "####  Step 5: The Result is stored at the top of the Stack, \n",
    "        return it\n",
    "####  Step 6: End"
   ]
  },
  {
   "cell_type": "raw",
   "metadata": {},
   "source": [
    "Expression: +9*26\n",
    "\n",
    "Character | Stack       |  Explanation\n",
    "Scanned   | (Front to   |\n",
    "          |  Back)      | \n",
    "-------------------------------------------\n",
    "6           6             6 is an operand, \n",
    "                            push to Stack\n",
    "2           6 2           2 is an operand, \n",
    "                            push to Stack\n",
    "*           12 (6*2)      * is an operator, \n",
    "                          pop 6 and 2, multiply \n",
    "                          them and push result \n",
    "                          to Stack \n",
    "9           12 9          9 is an operand, push \n",
    "                          to Stack\n",
    "+           21 (12+9)     + is an operator, pop\n",
    "                          12 and 9 add them and\n",
    "                          push result to Stack\n",
    "\n",
    "Result: 21"
   ]
  },
  {
   "cell_type": "code",
   "execution_count": 17,
   "metadata": {},
   "outputs": [],
   "source": [
    "def check_operand(c):\n",
    "    'check the digit number'\n",
    "    return c.isdigit()\n",
    "\n",
    "def evaluate(expression):\n",
    "    stack = []\n",
    "    for c in expression[::-1]:\n",
    "        if check_operand(c):\n",
    "            stack.append(int(c))\n",
    "        else:\n",
    "            o1 = stack.pop()\n",
    "            o2 = stack.pop()\n",
    "            if c == '+':\n",
    "                stack.append(o1 + o2)\n",
    "            if c == '*':\n",
    "                stack.append(o1 * o2)\n",
    "            if c == '/':\n",
    "                stack.append(o1 + o2)\n",
    "            if c == '-':\n",
    "                stack.append(o1 - o2)\n",
    "    return stack.pop()"
   ]
  },
  {
   "cell_type": "code",
   "execution_count": 18,
   "metadata": {},
   "outputs": [
    {
     "data": {
      "text/plain": [
       "21"
      ]
     },
     "execution_count": 18,
     "metadata": {},
     "output_type": "execute_result"
    }
   ],
   "source": [
    "test_expression = \"+9*26\"\n",
    "evaluate(test_expression)"
   ]
  },
  {
   "cell_type": "code",
   "execution_count": 19,
   "metadata": {},
   "outputs": [
    {
     "data": {
      "text/plain": [
       "5"
      ]
     },
     "execution_count": 19,
     "metadata": {},
     "output_type": "execute_result"
    }
   ],
   "source": [
    "test_expression = \"+9-26\"\n",
    "evaluate(test_expression)"
   ]
  },
  {
   "cell_type": "code",
   "execution_count": null,
   "metadata": {},
   "outputs": [],
   "source": []
  },
  {
   "cell_type": "code",
   "execution_count": null,
   "metadata": {},
   "outputs": [],
   "source": []
  }
 ],
 "metadata": {
  "kernelspec": {
   "display_name": "Python 3",
   "language": "python",
   "name": "python3"
  },
  "language_info": {
   "codemirror_mode": {
    "name": "ipython",
    "version": 3
   },
   "file_extension": ".py",
   "mimetype": "text/x-python",
   "name": "python",
   "nbconvert_exporter": "python",
   "pygments_lexer": "ipython3",
   "version": "3.8.3"
  }
 },
 "nbformat": 4,
 "nbformat_minor": 4
}
