{
 "cells": [
  {
   "cell_type": "markdown",
   "metadata": {},
   "source": [
    "### Write a Python Program to implement your own myreduce() function which works exactly like Python's built-in function reduce()"
   ]
  },
  {
   "cell_type": "code",
   "execution_count": 1,
   "metadata": {},
   "outputs": [],
   "source": [
    "# reduce() function is used to add all the sequence element in the list and only return the final output"
   ]
  },
  {
   "cell_type": "code",
   "execution_count": 95,
   "metadata": {},
   "outputs": [],
   "source": [
    "def my_reduce_function(func, iterable, start=None):\n",
    "    it = iter(iterable) # it is used to store the object in a variable and call every element one by one \n",
    "    if start is None:\n",
    "        try:\n",
    "            start = next(it) # i need only first element present in the iterable i use this next function only once.\n",
    "        except StopIteration:\n",
    "            raise TypeError('No initial value')\n",
    "    initial = start ## set initial value as first element from the iterable\n",
    "    for i in range(1,len(iterable)):\n",
    "        final = iterable[i]\n",
    "        initial = func(initial, final) #(it always update the valuye of intital )\n",
    "    return initial"
   ]
  },
  {
   "cell_type": "code",
   "execution_count": 96,
   "metadata": {},
   "outputs": [
    {
     "name": "stdout",
     "output_type": "stream",
     "text": [
      "28\n"
     ]
    }
   ],
   "source": [
    "def sub(a,b):\n",
    "    return a*b\n",
    "\n",
    "list_1 = [2,7,2]\n",
    "print(my_reduce_function(sub, list_1))"
   ]
  },
  {
   "cell_type": "code",
   "execution_count": 97,
   "metadata": {},
   "outputs": [
    {
     "name": "stdout",
     "output_type": "stream",
     "text": [
      "11\n"
     ]
    }
   ],
   "source": [
    "def add(a,b):\n",
    "    return a+b\n",
    "\n",
    "print(my_reduce_function(add, list_1))"
   ]
  },
  {
   "cell_type": "markdown",
   "metadata": {},
   "source": [
    "### 1.2 Write a Python program to implement your own myfilter() function which works exactly like Python's built-in function filter()"
   ]
  },
  {
   "cell_type": "code",
   "execution_count": 110,
   "metadata": {},
   "outputs": [],
   "source": [
    "def my_filter(func, var):\n",
    "    res = []\n",
    "    for data in var:\n",
    "        if func(data):\n",
    "            res.append(data)\n",
    "    return res\n",
    "    \n",
    "def my_func(val):\n",
    "    if val % 2==0:\n",
    "        return True\n",
    "    else:\n",
    "        return False"
   ]
  },
  {
   "cell_type": "code",
   "execution_count": 111,
   "metadata": {},
   "outputs": [
    {
     "name": "stdout",
     "output_type": "stream",
     "text": [
      "[2, 4, 6, 8, 14]\n"
     ]
    }
   ],
   "source": [
    "my_list = [2,3,4,5,6,7,8,14]\n",
    "print(my_filter(my_func, my_list))"
   ]
  },
  {
   "cell_type": "code",
   "execution_count": null,
   "metadata": {},
   "outputs": [],
   "source": []
  }
 ],
 "metadata": {
  "kernelspec": {
   "display_name": "Python 3",
   "language": "python",
   "name": "python3"
  },
  "language_info": {
   "codemirror_mode": {
    "name": "ipython",
    "version": 3
   },
   "file_extension": ".py",
   "mimetype": "text/x-python",
   "name": "python",
   "nbconvert_exporter": "python",
   "pygments_lexer": "ipython3",
   "version": "3.8.3"
  }
 },
 "nbformat": 4,
 "nbformat_minor": 4
}
