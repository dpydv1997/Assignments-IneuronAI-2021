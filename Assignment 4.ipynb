{
 "cells": [
  {
   "cell_type": "markdown",
   "metadata": {},
   "source": [
    "\n",
    "1.Introduction \n",
    "This assignment will help you to consolidate the concepts learnt in the session. \n",
    "\n",
    "### Problem Statement \n",
    "\n",
    "1.1 Write a Python Program(with class concepts) to find the area of the triangle using the below  formula. \n",
    "area = (s*(s-a)*(s-b)*(s-c)) ** 0.5 \n",
    "Function to take the length of the sides of triangle from user should be defined in the parent  class and function to calculate the area should be defined in subclass. \n",
    "\n",
    "1.2 Write a function filter_long_words() that takes a list of words and an integer n and returns  the list of words that are longer than n. \n",
    "\n",
    "2.1 Write a Python program using function concept that maps list of words into a list of integers  representing the lengths of the corresponding words. \n",
    "\n",
    "Hint: If a list [ ab,cde,erty] is passed on to the python function output should come as [2,3,4] Here 2,3 and 4 are the lengths of the words in the list. \n",
    "\n",
    "2.2 Write a Python function which takes a character (i.e. a string of length 1) and returns True if  it is a vowel, False otherwise. \n",
    "\n",
    "NOTE:ThesolutionsharedthroughGithubshouldcontainthesource codeusedandthe screenshotoftheoutput. \n",
    "\n",
    "3.Output \n",
    "\n",
    "This assignment consists of 200 marks and the solution file needs to be submitted in the  upcoming session in .ipynb format for evaluation.\n"
   ]
  },
  {
   "cell_type": "markdown",
   "metadata": {},
   "source": [
    "# Start"
   ]
  },
  {
   "cell_type": "markdown",
   "metadata": {},
   "source": [
    "#### 1.1 Write a Python Program(with class concepts) to find the area of the triangle using the below formula. area = (s(s-a)(s-b)(s-c)) * 0.5 Function to take the length of the sides of triangle from user should be defined in the parent class and function to calculate the area should be defined in subclass."
   ]
  },
  {
   "cell_type": "code",
   "execution_count": 1,
   "metadata": {},
   "outputs": [
    {
     "name": "stdout",
     "output_type": "stream",
     "text": [
      "area of Triangle: (2.2962127484012875e-16+3.75j)\n"
     ]
    }
   ],
   "source": [
    "class geometry:\n",
    "    def __init__(self, a, b, c):\n",
    "        self.a = a\n",
    "        self.b = b\n",
    "        self.c = c\n",
    "        \n",
    "\n",
    "class triangle(geometry):\n",
    "    def __init__(self,a, b, c):\n",
    "        super().__init__(a, b, c)\n",
    "\n",
    "    def area_triangle(self):\n",
    "        s = (self.a + self.b + self.c) / 2\n",
    "        return  float((s * (s - self.a) * (s - self.b) * (s - self.c))) ** 0.5\n",
    "\n",
    "t = triangle(2,2,5) \n",
    "print(\"area of Triangle: {}\".format(t.area_triangle()))"
   ]
  },
  {
   "cell_type": "markdown",
   "metadata": {},
   "source": [
    "#### Write a Python program using function concept that maps list of words into a list of integers representing the lengths of the corresponding words.\n",
    "\n",
    "Hint: If a list [ ab,cde,erty] is passed on to the python function output should come as [2,3,4] Here 2,3 and 4 are the lengths of the words in the list"
   ]
  },
  {
   "cell_type": "code",
   "execution_count": 2,
   "metadata": {},
   "outputs": [],
   "source": [
    "def check_length_of_each_word(string):\n",
    "    word_string = string.split()\n",
    "    return [len(word) for word in word_string]"
   ]
  },
  {
   "cell_type": "code",
   "execution_count": 3,
   "metadata": {},
   "outputs": [
    {
     "data": {
      "text/plain": [
       "[6, 7, 5]"
      ]
     },
     "execution_count": 3,
     "metadata": {},
     "output_type": "execute_result"
    }
   ],
   "source": [
    "s = 'Python program using'\n",
    "check_length_of_each_word(s)"
   ]
  },
  {
   "cell_type": "markdown",
   "metadata": {},
   "source": [
    "### 2.2 Write a Python function which takes a character (i.e. a string of length 1) and returns True if it is a vowel, False otherwise."
   ]
  },
  {
   "cell_type": "code",
   "execution_count": 4,
   "metadata": {},
   "outputs": [
    {
     "data": {
      "text/plain": [
       "False"
      ]
     },
     "execution_count": 4,
     "metadata": {},
     "output_type": "execute_result"
    }
   ],
   "source": [
    "def check_vowel(a):\n",
    "    ''' check the character is vowel or not character should be in small and Capital '''\n",
    "    vowel_list = ['a', 'e','i', 'o', 'u']\n",
    "    if a.lower() in vowel_list:\n",
    "        return True\n",
    "    else:\n",
    "        return False\n",
    "\n",
    "char = 'B'\n",
    "check_vowel(char)"
   ]
  },
  {
   "cell_type": "code",
   "execution_count": 5,
   "metadata": {},
   "outputs": [
    {
     "data": {
      "text/plain": [
       "True"
      ]
     },
     "execution_count": 5,
     "metadata": {},
     "output_type": "execute_result"
    }
   ],
   "source": [
    "char = 'A'\n",
    "check_vowel(char)"
   ]
  },
  {
   "cell_type": "markdown",
   "metadata": {},
   "source": [
    "### 1.2 Write a function filter_long_words() that takes a list of words and an integer n and returns the list of words that are longer than n."
   ]
  },
  {
   "cell_type": "code",
   "execution_count": 6,
   "metadata": {},
   "outputs": [],
   "source": [
    "def filter_long_words(sentence, num):\n",
    "    worl_list = sentence.split()\n",
    "    return [word for word in worl_list if len(word) > num]\n",
    "    "
   ]
  },
  {
   "cell_type": "code",
   "execution_count": 7,
   "metadata": {},
   "outputs": [
    {
     "data": {
      "text/plain": [
       "['Deepak', 'Yadav']"
      ]
     },
     "execution_count": 7,
     "metadata": {},
     "output_type": "execute_result"
    }
   ],
   "source": [
    "s = 'My name is Deepak Yadav'\n",
    "num = 4\n",
    "filter_long_words(s,num)"
   ]
  },
  {
   "cell_type": "markdown",
   "metadata": {},
   "source": [
    "## **** END ****"
   ]
  },
  {
   "cell_type": "code",
   "execution_count": null,
   "metadata": {},
   "outputs": [],
   "source": []
  }
 ],
 "metadata": {
  "kernelspec": {
   "display_name": "Python 3",
   "language": "python",
   "name": "python3"
  },
  "language_info": {
   "codemirror_mode": {
    "name": "ipython",
    "version": 3
   },
   "file_extension": ".py",
   "mimetype": "text/x-python",
   "name": "python",
   "nbconvert_exporter": "python",
   "pygments_lexer": "ipython3",
   "version": "3.8.3"
  }
 },
 "nbformat": 4,
 "nbformat_minor": 4
}
